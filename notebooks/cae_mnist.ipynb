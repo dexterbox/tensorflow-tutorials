{
 "cells": [
  {
   "cell_type": "code",
   "execution_count": 1,
   "metadata": {
    "collapsed": false
   },
   "outputs": [],
   "source": [
    "\"\"\"\n",
    " Convolutional AutoEncoder\n",
    "\"\"\"\n",
    "import tensorflow as tf\n",
    "import tensorflow.examples.tutorials.mnist.input_data as input_data\n",
    "import matplotlib.pyplot as plt\n",
    "import numpy as np\n",
    "import math\n",
    "%matplotlib inline "
   ]
  },
  {
   "cell_type": "code",
   "execution_count": 2,
   "metadata": {
    "collapsed": true
   },
   "outputs": [],
   "source": [
    "def autoencoder(input_shape=[None, 784],\n",
    "                n_filters=[1, 10, 10, 10],\n",
    "                filter_sizes=[3, 3, 3, 3],\n",
    "                corruption=False):\n",
    "    \"\"\"Build a deep denoising autoencoder w/ tied weights.\n",
    "    \"\"\"\n",
    "    # input to the network\n",
    "    x = tf.placeholder(tf.float32, input_shape, name='x')\n",
    "\n",
    "    # Optionally apply denoising autoencoder\n",
    "    if corruption:\n",
    "        x_noise = x\n",
    "    else:\n",
    "        x_noise = x\n",
    "\n",
    "    # ensure 2-d is converted to square tensor.\n",
    "    if len(x.get_shape()) == 2:\n",
    "        x_dim = np.sqrt(x_noise.get_shape().as_list()[1])\n",
    "        x_dim = int(x_dim)\n",
    "        x_tensor = tf.reshape(x_noise, [-1, x_dim, x_dim, n_filters[0]])\n",
    "    elif len(x_noise.get_shape()) == 4:\n",
    "        x_tensor = x_noise\n",
    "    else:\n",
    "        raise ValueError('Unsupported input dimensions')\n",
    "    current_input = x_tensor\n",
    "\n",
    "    # Build the encoder\n",
    "    encoder = []\n",
    "    shapes  = []\n",
    "    for layer_i, n_output in enumerate(n_filters[1:]):\n",
    "        n_input = current_input.get_shape().as_list()[3]\n",
    "        shapes.append(current_input.get_shape().as_list())\n",
    "        W = tf.Variable(\n",
    "            tf.random_uniform([filter_sizes[layer_i], filter_sizes[layer_i], n_input, n_output]\n",
    "                              , -1.0/math.sqrt(n_input), 1.0/math.sqrt(n_input)))\n",
    "        b = tf.Variable(tf.zeros([n_output]))\n",
    "        encoder.append(W)\n",
    "        output = tf.nn.relu(\n",
    "            tf.add(tf.nn.conv2d(current_input, W, strides=[1, 2, 2, 1], padding='SAME'), b))\n",
    "        current_input = output\n",
    "\n",
    "    # store the latent representation\n",
    "    z = current_input\n",
    "    encoder.reverse()\n",
    "    shapes.reverse()\n",
    "\n",
    "    # Build the decoder using the same weights\n",
    "    for layer_i, shape in enumerate(shapes):\n",
    "        W = encoder[layer_i]\n",
    "        b = tf.Variable(tf.zeros([W.get_shape().as_list()[2]]))\n",
    "        output = tf.nn.relu(tf.add(\n",
    "            tf.nn.conv2d_transpose(current_input, W,\n",
    "                tf.pack([tf.shape(x)[0], shape[1], shape[2], shape[3]]),\n",
    "                strides=[1, 2, 2, 1], padding='SAME'), b))\n",
    "        current_input = output\n",
    "\n",
    "    # now have the reconstruction through the network\n",
    "    y = current_input\n",
    "    # cost function measures pixel-wise difference\n",
    "    cost = tf.reduce_sum(tf.square(y - x_tensor))\n",
    "\n",
    "    # %%\n",
    "    return {'x': x, 'z': z, 'y': y, 'cost': cost}\n"
   ]
  },
  {
   "cell_type": "code",
   "execution_count": 3,
   "metadata": {
    "collapsed": false
   },
   "outputs": [
    {
     "name": "stdout",
     "output_type": "stream",
     "text": [
      "Extracting data/train-images-idx3-ubyte.gz\n",
      "Extracting data/train-labels-idx1-ubyte.gz\n",
      "Extracting data/t10k-images-idx3-ubyte.gz\n",
      "Extracting data/t10k-labels-idx1-ubyte.gz\n",
      "0 / 10 2462.44\n",
      "1 / 10 2096.93\n",
      "2 / 10 2101.24\n",
      "3 / 10 2048.93\n",
      "4 / 10 1998.6\n",
      "5 / 10 1981.99\n",
      "6 / 10 2012.55\n",
      "7 / 10 1944.45\n",
      "8 / 10 1996.14\n",
      "9 / 10 1943.05\n"
     ]
    }
   ],
   "source": [
    "# load MNIST as before\n",
    "mnist = input_data.read_data_sets('data', one_hot=True)\n",
    "mean_img = np.mean(mnist.train.images, axis=0)\n",
    "ae = autoencoder()\n",
    "\n",
    "learning_rate = 0.01\n",
    "optimizer = tf.train.AdamOptimizer(learning_rate).minimize(ae['cost'])\n",
    "\n",
    "# We create a session to use the graph\n",
    "sess = tf.Session()\n",
    "sess.run(tf.initialize_all_variables())\n",
    "\n",
    "# %%\n",
    "# Fit all training data\n",
    "batch_size = 100\n",
    "n_epochs = 10\n",
    "for epoch_i in range(n_epochs):\n",
    "    for batch_i in range(mnist.train.num_examples // batch_size):\n",
    "        batch_xs, _ = mnist.train.next_batch(batch_size)\n",
    "        train = np.array([img - mean_img for img in batch_xs])\n",
    "        sess.run(optimizer, feed_dict={ae['x']: train})\n",
    "    print(epoch_i, \"/\", n_epochs, sess.run(ae['cost'], feed_dict={ae['x']: train}))\n"
   ]
  },
  {
   "cell_type": "code",
   "execution_count": 4,
   "metadata": {
    "collapsed": false
   },
   "outputs": [
    {
     "name": "stdout",
     "output_type": "stream",
     "text": [
      "(10, 28, 28, 1)\n"
     ]
    },
    {
     "data": {
      "image/png": "[encoded data removed]",
      "text/plain": [
       "<matplotlib.figure.Figure at 0x7f9dcaa2ae10>"
      ]
     },
     "metadata": {},
     "output_type": "display_data"
    }
   ],
   "source": [
    "# Plot example reconstructions\n",
    "n_examples = 10\n",
    "test_xs, _ = mnist.test.next_batch(n_examples)\n",
    "test_xs_norm = np.array([img - mean_img for img in test_xs])\n",
    "recon = sess.run(ae['y'], feed_dict={ae['x']: test_xs_norm})\n",
    "print(recon.shape)\n",
    "fig, axs = plt.subplots(2, n_examples, figsize=(10, 2))\n",
    "for example_i in range(n_examples):\n",
    "    axs[0][example_i].matshow(\n",
    "        np.reshape(test_xs[example_i, :], (28, 28)), cmap=plt.get_cmap('gray'))\n",
    "    axs[1][example_i].matshow(\n",
    "        np.reshape(\n",
    "            np.reshape(recon[example_i, ...], (784,)) + mean_img,\n",
    "            (28, 28)), cmap=plt.get_cmap('gray'))\n",
    "plt.draw()\n"
   ]
  },
  {
   "cell_type": "code",
   "execution_count": null,
   "metadata": {
    "collapsed": true
   },
   "outputs": [],
   "source": []
  }
 ],
 "metadata": {
  "kernelspec": {
   "display_name": "Python 3",
   "language": "python",
   "name": "python3"
  },
  "language_info": {
   "codemirror_mode": {
    "name": "ipython",
    "version": 3
   },
   "file_extension": ".py",
   "mimetype": "text/x-python",
   "name": "python",
   "nbconvert_exporter": "python",
   "pygments_lexer": "ipython3",
   "version": "3.4.3"
  }
 },
 "nbformat": 4,
 "nbformat_minor": 0
}
