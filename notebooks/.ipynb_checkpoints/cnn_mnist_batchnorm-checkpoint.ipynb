{
 "cells": [
  {
   "cell_type": "code",
   "execution_count": 1,
   "metadata": {
    "collapsed": false
   },
   "outputs": [
    {
     "ename": "ImportError",
     "evalue": "No module named libs.batch_norm",
     "output_type": "error",
     "traceback": [
      "\u001b[1;31m---------------------------------------------------------------------------\u001b[0m",
      "\u001b[1;31mImportError\u001b[0m                               Traceback (most recent call last)",
      "\u001b[1;32m<ipython-input-1-5ccd93282f6b>\u001b[0m in \u001b[0;36m<module>\u001b[1;34m()\u001b[0m\n\u001b[0;32m      1\u001b[0m \u001b[1;31m# %%\u001b[0m\u001b[1;33m\u001b[0m\u001b[1;33m\u001b[0m\u001b[0m\n\u001b[0;32m      2\u001b[0m \u001b[1;32mimport\u001b[0m \u001b[0mtensorflow\u001b[0m \u001b[1;32mas\u001b[0m \u001b[0mtf\u001b[0m\u001b[1;33m\u001b[0m\u001b[0m\n\u001b[1;32m----> 3\u001b[1;33m \u001b[1;32mfrom\u001b[0m \u001b[0mlibs\u001b[0m\u001b[1;33m.\u001b[0m\u001b[0mbatch_norm\u001b[0m \u001b[1;32mimport\u001b[0m \u001b[0mbatch_norm\u001b[0m\u001b[1;33m\u001b[0m\u001b[0m\n\u001b[0m\u001b[0;32m      4\u001b[0m \u001b[1;32mfrom\u001b[0m \u001b[0mlibs\u001b[0m\u001b[1;33m.\u001b[0m\u001b[0mactivations\u001b[0m \u001b[1;32mimport\u001b[0m \u001b[0mlrelu\u001b[0m\u001b[1;33m\u001b[0m\u001b[0m\n\u001b[0;32m      5\u001b[0m \u001b[1;32mfrom\u001b[0m \u001b[0mlibs\u001b[0m\u001b[1;33m.\u001b[0m\u001b[0mconnections\u001b[0m \u001b[1;32mimport\u001b[0m \u001b[0mconv2d\u001b[0m\u001b[1;33m,\u001b[0m \u001b[0mlinear\u001b[0m\u001b[1;33m\u001b[0m\u001b[0m\n",
      "\u001b[1;31mImportError\u001b[0m: No module named libs.batch_norm"
     ]
    }
   ],
   "source": [
    "# Not working. \n",
    "import tensorflow as tf\n",
    "from libs.batch_norm import batch_norm\n",
    "from libs.activations import lrelu\n",
    "from libs.connections import conv2d, linear\n",
    "from libs.datasets import MNIST"
   ]
  },
  {
   "cell_type": "code",
   "execution_count": null,
   "metadata": {
    "collapsed": false
   },
   "outputs": [],
   "source": [
    "# %% Setup input to the network and true output label.  These are\n",
    "# simply placeholders which we'll fill in later.\n",
    "mnist = MNIST()\n",
    "x = tf.placeholder(tf.float32, [None, 784])\n",
    "y = tf.placeholder(tf.float32, [None, 10])\n",
    "x_tensor = tf.reshape(x, [-1, 28, 28, 1])"
   ]
  },
  {
   "cell_type": "code",
   "execution_count": null,
   "metadata": {
    "collapsed": false
   },
   "outputs": [],
   "source": [
    "# %% Define the network:\n",
    "bn1 = batch_norm(-1, name='bn1')\n",
    "bn2 = batch_norm(-1, name='bn2')\n",
    "bn3 = batch_norm(-1, name='bn3')\n",
    "h_1 = lrelu(bn1(conv2d(x_tensor, 32, name='conv1')), name='lrelu1')\n",
    "h_2 = lrelu(bn2(conv2d(h_1, 64, name='conv2')), name='lrelu2')\n",
    "h_3 = lrelu(bn3(conv2d(h_2, 64, name='conv3')), name='lrelu3')\n",
    "h_3_flat = tf.reshape(h_3, [-1, 64 * 4 * 4])\n",
    "h_4 = linear(h_3_flat, 10)\n",
    "y_pred = tf.nn.softmax(h_4)"
   ]
  },
  {
   "cell_type": "code",
   "execution_count": null,
   "metadata": {
    "collapsed": true
   },
   "outputs": [],
   "source": []
  }
 ],
 "metadata": {
  "kernelspec": {
   "display_name": "Python 2",
   "language": "python",
   "name": "python2"
  },
  "language_info": {
   "codemirror_mode": {
    "name": "ipython",
    "version": 2
   },
   "file_extension": ".py",
   "mimetype": "text/x-python",
   "name": "python",
   "nbconvert_exporter": "python",
   "pygments_lexer": "ipython2",
   "version": "2.7.6"
  }
 },
 "nbformat": 4,
 "nbformat_minor": 0
}
