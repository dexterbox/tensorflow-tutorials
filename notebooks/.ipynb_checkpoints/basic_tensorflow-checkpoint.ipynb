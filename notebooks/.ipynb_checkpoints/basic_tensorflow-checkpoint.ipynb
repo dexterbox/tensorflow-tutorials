{
 "cells": [
  {
   "cell_type": "code",
   "execution_count": 3,
   "metadata": {
    "collapsed": false
   },
   "outputs": [
    {
     "name": "stdout",
     "output_type": "stream",
     "text": [
      "Type of hello is Tensor(\"Const_2:0\", shape=(), dtype=string)\n"
     ]
    }
   ],
   "source": [
    "\"\"\"\n",
    " Basic TensorFlow \n",
    " Sungjoon Choi (sungjoon.choi@cpslab.snu.ac.kr)\n",
    "\"\"\"\n",
    "import numpy as np\n",
    "import tensorflow as tf\n",
    "\n",
    "hello = tf.constant(\"Hello, it's me.\")\n",
    "print (\"Type of hello is %s\" % (hello))"
   ]
  },
  {
   "cell_type": "code",
   "execution_count": 4,
   "metadata": {
    "collapsed": true
   },
   "outputs": [],
   "source": [
    "\"\"\"\n",
    " In order to make things happen, we need 'session'!\n",
    "\"\"\"\n",
    "sess = tf.Session()"
   ]
  },
  {
   "cell_type": "code",
   "execution_count": 5,
   "metadata": {
    "collapsed": false
   },
   "outputs": [
    {
     "name": "stdout",
     "output_type": "stream",
     "text": [
      "Type of 'hello' is  <class 'tensorflow.python.framework.ops.Tensor'>\n",
      "Type of 'hello_out' is  <class 'bytes'>\n",
      "b\"Hello, it's me.\"\n",
      "Until you run session, nothing happens!\n"
     ]
    }
   ],
   "source": [
    "\"\"\"\n",
    " Run session with tf variable\n",
    "\"\"\"\n",
    "hello_out = sess.run(hello)\n",
    "print (\"Type of 'hello' is \", type(hello))\n",
    "print (\"Type of 'hello_out' is \", type(hello_out))\n",
    "print (hello_out) \n",
    "\n",
    "\"\"\"\n",
    " Until you run session, nothing happens!\n",
    "\"\"\"\n",
    "print (\"Until you run session, nothing happens!\")"
   ]
  },
  {
   "cell_type": "code",
   "execution_count": 8,
   "metadata": {
    "collapsed": false
   },
   "outputs": [
    {
     "name": "stdout",
     "output_type": "stream",
     "text": [
      "Constant types (numpy)\n",
      " 'a':  Tensor(\"Const_7:0\", shape=(), dtype=float32)  Type is  <class 'tensorflow.python.framework.ops.Tensor'>\n",
      " 'b':  Tensor(\"Const_8:0\", shape=(), dtype=float32)  Type is  <class 'tensorflow.python.framework.ops.Tensor'>\n",
      " Type of 'a_out' is  <class 'numpy.float32'>\n",
      " Type of 'b_out' is  <class 'numpy.float32'>\n",
      " a_out is  1.5 b_out is  2.5 a_out+b_out is  4.0\n"
     ]
    }
   ],
   "source": [
    "\"\"\"\n",
    " There are other types as well\n",
    "  1. Constant types\n",
    "  2. Operators \n",
    "  3. Variables   \n",
    "  4. Placeholder (Buffers)\n",
    "\"\"\"\n",
    "\n",
    "\"\"\"\n",
    " Constant types\n",
    "\"\"\"\n",
    "print (\"Constant types (numpy)\")\n",
    "a = tf.constant(1.5)\n",
    "b = tf.constant(2.5)\n",
    "print (\" 'a': \", a, \" Type is \", type(a))\n",
    "print (\" 'b': \", b, \" Type is \", type(b))\n",
    "a_out = sess.run(a)\n",
    "b_out = sess.run(b)\n",
    "print (\" Type of 'a_out' is \", type(a_out))\n",
    "print (\" Type of 'b_out' is \", type(b_out))\n",
    "print (\" a_out is \", a_out, \"b_out is \", b_out, \"a_out+b_out is \", a_out+b_out)"
   ]
  },
  {
   "cell_type": "code",
   "execution_count": 9,
   "metadata": {
    "collapsed": false
   },
   "outputs": [
    {
     "name": "stdout",
     "output_type": "stream",
     "text": [
      "Operators (tf.add, tf.mul)\n",
      " 'add' is  Tensor(\"Add:0\", shape=(), dtype=float32)  type is  <class 'tensorflow.python.framework.ops.Tensor'>\n",
      " 'add_out' is  4.0  type is  <class 'numpy.float32'>\n",
      " 'mul' is  Tensor(\"Mul:0\", shape=(), dtype=float32)  type is  <class 'tensorflow.python.framework.ops.Tensor'>\n",
      " 'mul_out' is  3.75  type is  <class 'numpy.float32'>\n"
     ]
    }
   ],
   "source": [
    "\"\"\"\n",
    " Operators are also tf variables\n",
    "\"\"\"\n",
    "print (\"Operators (tf.add, tf.mul)\")\n",
    "add = tf.add(a, b)\n",
    "print (\" 'add' is \", add, ' type is ', type(add))\n",
    "add_out = sess.run(add)\n",
    "print (\" 'add_out' is \", add_out, ' type is ', type(add_out))\n",
    "mul = tf.mul(a, b)\n",
    "print (\" 'mul' is \", mul, ' type is ', type(mul))\n",
    "mul_out = sess.run(mul)\n",
    "print (\" 'mul_out' is \", mul_out, ' type is ', type(mul_out))"
   ]
  },
  {
   "cell_type": "code",
   "execution_count": 10,
   "metadata": {
    "collapsed": false
   },
   "outputs": [
    {
     "name": "stdout",
     "output_type": "stream",
     "text": [
      "Variables & PlaceHolders\n",
      " 'Weight':  <tensorflow.python.ops.variables.Variable object at 0x7f64613b4438>  Type is  <class 'tensorflow.python.ops.variables.Variable'>\n",
      " 'Bias':  <tensorflow.python.ops.variables.Variable object at 0x7f64613b4080>  Type is  <class 'tensorflow.python.ops.variables.Variable'>\n"
     ]
    }
   ],
   "source": [
    "\"\"\"\n",
    " Variables & PlaceHolder\n",
    "\"\"\"\n",
    "print (\"Variables & PlaceHolders\")\n",
    "X = np.random.rand(1, 20)\n",
    "Input  = tf.placeholder(tf.float32, [None, 20])\n",
    "Weight = tf.Variable(tf.random_normal([20, 10], stddev=0.5))\n",
    "Bias   = tf.Variable(tf.zeros([1, 10]))\n",
    "print (\" 'Weight': \", Weight, \" Type is \", type(Weight))\n",
    "print (\" 'Bias': \", Bias, \" Type is \", type(Bias))\n",
    "# Weight_out = sess.run(Weight) # <= This is not allowed! \n",
    "# print Weight.eval(sess) # <= This is not also allowed! (Do You Know Why??)"
   ]
  },
  {
   "cell_type": "code",
   "execution_count": 11,
   "metadata": {
    "collapsed": false,
    "scrolled": true
   },
   "outputs": [
    {
     "name": "stdout",
     "output_type": "stream",
     "text": [
      "\n",
      "Initialize Variables\n",
      " 'Weight':  <tensorflow.python.ops.variables.Variable object at 0x7f64613b4438>  Type is  <class 'tensorflow.python.ops.variables.Variable'>\n",
      " 'Bias':  <tensorflow.python.ops.variables.Variable object at 0x7f64613b4080>  Type is  <class 'tensorflow.python.ops.variables.Variable'>\n",
      "[[  9.50338021e-02  -4.26102966e-01  -2.72091478e-01   2.70755470e-01\n",
      "    2.19078720e-01  -1.98310778e-01   1.69883221e-01  -5.34779251e-01\n",
      "   -4.67082977e-01   5.57005167e-01]\n",
      " [ -6.57144845e-01  -8.11394379e-02   1.04394004e-01   4.76897031e-01\n",
      "   -8.52190614e-01  -2.61270344e-01  -1.03110902e-01  -3.89644414e-01\n",
      "    1.28622934e-01  -5.18946648e-01]\n",
      " [  9.15402591e-01  -1.37623608e-01  -1.00933480e+00  -2.12027580e-01\n",
      "   -6.47798002e-01  -4.87299621e-01  -6.93969190e-01   1.25448525e-01\n",
      "    6.86511278e-01  -5.39707124e-01]\n",
      " [ -2.83440143e-01  -2.19581455e-01  -8.30422640e-01   2.03650862e-01\n",
      "    1.05410986e-01  -3.34573090e-01   3.97448450e-01  -8.68022799e-01\n",
      "    5.62132239e-01  -3.59161675e-01]\n",
      " [  3.10944370e-03   1.59943730e-01  -1.64676949e-01   5.32571614e-01\n",
      "   -1.74348518e-01   1.81883603e-01  -2.17702761e-01  -1.28213656e+00\n",
      "   -5.74987292e-01  -2.61027187e-01]\n",
      " [ -1.56634644e-01   6.56364202e-01  -4.15736943e-01   5.87279126e-02\n",
      "   -5.94800115e-01  -8.06852818e-01   5.15635967e-01  -3.15152198e-01\n",
      "    3.44337583e-01  -2.15821728e-01]\n",
      " [ -3.39114219e-01  -5.61815858e-01  -5.15289120e-02  -9.58706200e-01\n",
      "    7.60107279e-01  -9.18250144e-01  -5.98547101e-01   8.93132329e-01\n",
      "    9.47188854e-01   5.02369069e-02]\n",
      " [ -7.43872702e-01   8.53822172e-01  -4.60463703e-01  -3.78699303e-01\n",
      "    3.57844114e-01  -6.52233809e-02   7.21071959e-02   2.33370110e-01\n",
      "   -4.29720342e-01  -2.25346048e-05]\n",
      " [  4.91224349e-01   9.24505666e-03  -1.65315326e-02  -3.86765212e-01\n",
      "   -1.17380396e-01   5.99364191e-02  -2.97870278e-01   7.64586255e-02\n",
      "   -3.07101786e-01   5.88243067e-01]\n",
      " [ -2.37830445e-01  -1.22310948e-02   2.74813294e-01   5.81491232e-01\n",
      "   -7.77930379e-01   5.29171050e-01  -2.12166761e-03   1.76182345e-01\n",
      "    6.13978505e-01  -2.15231359e-01]\n",
      " [ -5.76081514e-01   1.41268885e+00  -1.06337249e+00  -2.73769438e-01\n",
      "    3.97381485e-01  -7.05727518e-01   1.24994807e-01  -5.06647043e-02\n",
      "    3.02515805e-01  -3.94566618e-02]\n",
      " [ -4.09322143e-01   1.84386298e-01   2.43943319e-01  -4.40435350e-01\n",
      "   -7.37724900e-02   2.23722711e-01   1.05547798e+00  -8.42456400e-01\n",
      "   -5.84408343e-01  -2.87274271e-01]\n",
      " [ -1.34844139e-01   1.92484498e-01  -9.53612328e-02   4.88710403e-01\n",
      "    1.28268190e-02   4.69008088e-01  -2.67766297e-01   6.84328556e-01\n",
      "    3.56115788e-01  -4.56287801e-01]\n",
      " [ -1.49705482e-03   7.24627912e-01   4.98606682e-01   1.83980823e-01\n",
      "    1.37912944e-01  -7.81902790e-01  -9.54594463e-02  -3.74585807e-01\n",
      "    2.90550679e-01  -4.66103345e-01]\n",
      " [ -3.77660990e-01   4.47711498e-01  -1.37123853e-01  -3.95749733e-02\n",
      "    4.63445872e-01   7.85501003e-01  -7.07113862e-01  -2.55540386e-02\n",
      "    3.73454750e-01   4.52181697e-01]\n",
      " [  5.24004996e-01  -7.87454009e-01   8.78074765e-01   1.01368695e-01\n",
      "   -1.27484000e+00   5.42759061e-01  -2.04757050e-01   4.41742837e-01\n",
      "    3.42185110e-01  -1.50362408e+00]\n",
      " [ -1.11986145e-01   3.20740432e-01  -5.48666060e-01   6.39817357e-01\n",
      "    3.22939545e-01  -6.71079814e-01   8.59538972e-01  -4.49012190e-01\n",
      "    1.14746094e+00   4.60912213e-02]\n",
      " [  2.54312932e-01  -1.38204485e-01  -1.09298617e-01  -2.20533714e-01\n",
      "   -2.25182876e-01   1.09341037e+00   6.31890833e-01   1.72938600e-01\n",
      "    1.92257836e-01  -1.12451270e-01]\n",
      " [ -9.23291385e-01   1.41534775e-01  -7.26084590e-01  -5.16479164e-02\n",
      "    8.37568760e-01  -4.56543982e-01   3.69504303e-01  -9.56342965e-02\n",
      "    1.12029588e+00   1.25126272e-01]\n",
      " [  1.27973080e-01   1.09240031e+00  -2.26237327e-01   1.28179118e-01\n",
      "   -2.72369117e-01   8.24163616e-01  -7.39789069e-01  -4.19475436e-01\n",
      "    8.20592791e-02   3.24391156e-01]]\n"
     ]
    }
   ],
   "source": [
    "\"\"\"\n",
    " Initialize Variables\n",
    "\"\"\"\n",
    "print (\"\\nInitialize Variables\")\n",
    "init = tf.initialize_all_variables()\n",
    "sess.run(init)\n",
    "print (\" 'Weight': \", Weight, \" Type is \", type(Weight))\n",
    "print (\" 'Bias': \", Bias, \" Type is \", type(Bias))\n",
    "print (Weight.eval(sess))"
   ]
  },
  {
   "cell_type": "code",
   "execution_count": 12,
   "metadata": {
    "collapsed": false
   },
   "outputs": [
    {
     "name": "stdout",
     "output_type": "stream",
     "text": [
      "Operations with Variables and PlaceHolders\n",
      " oper is  Tensor(\"add:0\", shape=(?, 10), dtype=float32)  type is  <class 'tensorflow.python.framework.ops.Tensor'>\n",
      " val is  [[-2.10864162  3.39871049 -2.77930021  0.32329789 -0.41329652 -0.36955133\n",
      "  -0.21930134 -2.00290251  2.36349797 -1.26237822]]  type is  <class 'numpy.ndarray'>\n"
     ]
    }
   ],
   "source": [
    "\"\"\"\n",
    " Operations with Variables and PlaceHolders\n",
    "\"\"\"\n",
    "print (\"Operations with Variables and PlaceHolders\")\n",
    "oper = tf.matmul(Input, Weight) + Bias\n",
    "val  = sess.run(oper, feed_dict={Input:X})\n",
    "print (\" oper is \", oper, \" type is \", type(oper))\n",
    "print (\" val is \", val, \" type is \", type(val))"
   ]
  },
  {
   "cell_type": "code",
   "execution_count": 13,
   "metadata": {
    "collapsed": false
   },
   "outputs": [
    {
     "name": "stdout",
     "output_type": "stream",
     "text": [
      "Operators with PlaceHolder (tf.add, tf.mul)\n",
      " addres:  11.0  type is  <class 'numpy.float32'>\n",
      " mulres:  30.0  type is  <class 'numpy.float32'>\n"
     ]
    }
   ],
   "source": [
    "\"\"\"\n",
    " Operators with PlaceHolder\n",
    " (This is very important !)\n",
    " (Remember 'feed_dict' !!!)\n",
    "\"\"\"\n",
    "print (\"Operators with PlaceHolder (tf.add, tf.mul)\")\n",
    "x = tf.placeholder(tf.float32)\n",
    "y = tf.placeholder(tf.float32)\n",
    "add = tf.add(x, y)\n",
    "mul = tf.mul(x, y)\n",
    "add_out = sess.run(add, feed_dict={x:5.0, y:6.0})\n",
    "mul_out = sess.run(mul, feed_dict={x:5.0, y:6.0})\n",
    "print (\" addres: \", add_out, \" type is \", type(add_out) )\n",
    "print (\" mulres: \", mul_out, \" type is \", type(mul_out))"
   ]
  },
  {
   "cell_type": "code",
   "execution_count": null,
   "metadata": {
    "collapsed": true
   },
   "outputs": [],
   "source": []
  }
 ],
 "metadata": {
  "kernelspec": {
   "display_name": "Python 3",
   "language": "python",
   "name": "python3"
  },
  "language_info": {
   "codemirror_mode": {
    "name": "ipython",
    "version": 3
   },
   "file_extension": ".py",
   "mimetype": "text/x-python",
   "name": "python",
   "nbconvert_exporter": "python",
   "pygments_lexer": "ipython3",
   "version": "3.4.3"
  }
 },
 "nbformat": 4,
 "nbformat_minor": 0
}
