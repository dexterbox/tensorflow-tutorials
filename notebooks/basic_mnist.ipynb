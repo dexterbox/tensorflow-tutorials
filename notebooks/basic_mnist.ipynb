{
 "cells": [
  {
   "cell_type": "code",
   "execution_count": 1,
   "metadata": {
    "collapsed": true
   },
   "outputs": [],
   "source": [
    "\"\"\"\n",
    " Let's get friendly with MNIST \n",
    " @Sungjoon Choi (sungjoon.choi@cpslab.snu.ac.kr)\n",
    "\"\"\"\n",
    "import numpy as np\n",
    "import tensorflow as tf\n",
    "import matplotlib.pyplot as plt\n",
    "from tensorflow.examples.tutorials.mnist import input_data\n",
    "\n",
    "%matplotlib inline  "
   ]
  },
  {
   "cell_type": "code",
   "execution_count": 2,
   "metadata": {
    "collapsed": false
   },
   "outputs": [
    {
     "name": "stdout",
     "output_type": "stream",
     "text": [
      "Download and Extract MNIST dataset\n",
      "Extracting data/train-images-idx3-ubyte.gz\n",
      "Extracting data/train-labels-idx1-ubyte.gz\n",
      "Extracting data/t10k-images-idx3-ubyte.gz\n",
      "Extracting data/t10k-labels-idx1-ubyte.gz\n",
      " tpye of 'mnist' is  <class 'tensorflow.examples.tutorials.mnist.input_data.read_data_sets.<locals>.DataSets'>\n",
      " number of trian data is 55000\n",
      " number of test data is 10000\n"
     ]
    }
   ],
   "source": [
    "# Download and Extract MNIST dataset\n",
    "print (\"Download and Extract MNIST dataset\")\n",
    "mnist = input_data.read_data_sets('data/', one_hot=True)\n",
    "print (\" tpye of 'mnist' is \", type(mnist))\n",
    "print (\" number of trian data is %d\" % (mnist.train.num_examples))\n",
    "print (\" number of test data is %d\" % (mnist.test.num_examples))"
   ]
  },
  {
   "cell_type": "code",
   "execution_count": 3,
   "metadata": {
    "collapsed": false
   },
   "outputs": [
    {
     "name": "stdout",
     "output_type": "stream",
     "text": [
      "What does the data of MNIST look like?\n",
      " type of 'trainimg' is <class 'numpy.ndarray'>\n",
      " type of 'trainlabel' is <class 'numpy.ndarray'>\n",
      " type of 'testimg' is <class 'numpy.ndarray'>\n",
      " type of 'testlabel' is <class 'numpy.ndarray'>\n",
      " shape of 'trainimg' is (55000, 784)\n",
      " shape of 'trainlabel' is (55000, 10)\n",
      " shape of 'testimg' is (10000, 784)\n",
      " shape of 'testlabel' is (10000, 10)\n"
     ]
    }
   ],
   "source": [
    "# What does the data of MNIST look like? \n",
    "print (\"What does the data of MNIST look like?\")\n",
    "trainimg   = mnist.train.images\n",
    "trainlabel = mnist.train.labels\n",
    "testimg    = mnist.test.images\n",
    "testlabel  = mnist.test.labels\n",
    "print (\" type of 'trainimg' is %s\"    % (type(trainimg)))\n",
    "print (\" type of 'trainlabel' is %s\"  % (type(trainlabel)))\n",
    "print (\" type of 'testimg' is %s\"     % (type(testimg)))\n",
    "print (\" type of 'testlabel' is %s\"   % (type(testlabel)))\n",
    "print (\" shape of 'trainimg' is %s\"   % (trainimg.shape,))\n",
    "print (\" shape of 'trainlabel' is %s\" % (trainlabel.shape,))\n",
    "print (\" shape of 'testimg' is %s\"    % (testimg.shape,))\n",
    "print (\" shape of 'testlabel' is %s\"  % (testlabel.shape,))"
   ]
  },
  {
   "cell_type": "code",
   "execution_count": 4,
   "metadata": {
    "collapsed": false,
    "scrolled": true
   },
   "outputs": [
    {
     "name": "stdout",
     "output_type": "stream",
     "text": [
      "How does the data look like?\n",
      "21772th Training Data Label is 1\n",
      "39231th Training Data Label is 3\n",
      "31482th Training Data Label is 5\n"
     ]
    },
    {
     "data": {
      "image/png": "[encoded data removed]",
      "text/plain": [
       "<matplotlib.figure.Figure at 0x7fa0d437a0f0>"
      ]
     },
     "metadata": {},
     "output_type": "display_data"
    },
    {
     "data": {
      "image/png": "[encoded data removed]",
      "text/plain": [
       "<matplotlib.figure.Figure at 0x7fa0d42e6400>"
      ]
     },
     "metadata": {},
     "output_type": "display_data"
    },
    {
     "data": {
      "image/png": "[encoded data removed]",
      "text/plain": [
       "<matplotlib.figure.Figure at 0x7fa0d42a7e48>"
      ]
     },
     "metadata": {},
     "output_type": "display_data"
    }
   ],
   "source": [
    "# How does the training data look like?\n",
    "print (\"How does the data look like?\")\n",
    "nsample = 3\n",
    "randidx = np.random.randint(trainimg.shape[0], size=nsample)\n",
    "\n",
    "for i in randidx:\n",
    "    curr_img   = np.reshape(trainimg[i, :], (28, 28)) # 28 by 28 matrix \n",
    "    curr_label = np.argmax(trainlabel[i, :] ) # Label\n",
    "    plt.matshow(curr_img, cmap=plt.get_cmap('gray'))\n",
    "    plt.title(\"\" + str(i) + \"th Training Data \" + \"Label is \" + str(curr_label))\n",
    "    print (\"\" + str(i) + \"th Training Data \" + \"Label is \" + str(curr_label))"
   ]
  },
  {
   "cell_type": "code",
   "execution_count": 5,
   "metadata": {
    "collapsed": false
   },
   "outputs": [
    {
     "name": "stdout",
     "output_type": "stream",
     "text": [
      "Batch Learning? \n",
      "type of 'batch_xs' is <class 'numpy.ndarray'>\n",
      "type of 'batch_ys' is <class 'numpy.ndarray'>\n",
      "shape of 'batch_xs' is (100, 784)\n",
      "shape of 'batch_ys' is (100, 10)\n"
     ]
    }
   ],
   "source": [
    "# Batch Learning? \n",
    "print (\"Batch Learning? \")\n",
    "batch_size = 100\n",
    "batch_xs, batch_ys = mnist.train.next_batch(batch_size)\n",
    "print (\"type of 'batch_xs' is %s\" % (type(batch_xs)))\n",
    "print (\"type of 'batch_ys' is %s\" % (type(batch_ys)))\n",
    "print (\"shape of 'batch_xs' is %s\" % (batch_xs.shape,))\n",
    "print (\"shape of 'batch_ys' is %s\" % (batch_ys.shape,))"
   ]
  },
  {
   "cell_type": "code",
   "execution_count": 6,
   "metadata": {
    "collapsed": false
   },
   "outputs": [
    {
     "name": "stdout",
     "output_type": "stream",
     "text": [
      "5. Get Random Batch with 'np.random.randint'\n",
      "type of 'batch_xs2' is <class 'numpy.ndarray'>\n",
      "type of 'batch_ys2' is <class 'numpy.ndarray'>\n",
      "shape of 'batch_xs2' is (100, 784)\n",
      "shape of 'batch_ys2' is (100, 10)\n"
     ]
    }
   ],
   "source": [
    "# Get Random Batch with 'np.random.randint'\n",
    "print (\"5. Get Random Batch with 'np.random.randint'\")\n",
    "randidx = np.random.randint(trainimg.shape[0], size=batch_size)\n",
    "batch_xs2 = trainimg[randidx, :]\n",
    "batch_ys2 = trainlabel[randidx, :]\n",
    "print (\"type of 'batch_xs2' is %s\" % (type(batch_xs2)))\n",
    "print (\"type of 'batch_ys2' is %s\" % (type(batch_ys2)))\n",
    "print (\"shape of 'batch_xs2' is %s\" % (batch_xs2.shape,))\n",
    "print (\"shape of 'batch_ys2' is %s\" % (batch_ys2.shape,))"
   ]
  },
  {
   "cell_type": "code",
   "execution_count": null,
   "metadata": {
    "collapsed": true
   },
   "outputs": [],
   "source": []
  }
 ],
 "metadata": {
  "kernelspec": {
   "display_name": "Python 3",
   "language": "python",
   "name": "python3"
  },
  "language_info": {
   "codemirror_mode": {
    "name": "ipython",
    "version": 3
   },
   "file_extension": ".py",
   "mimetype": "text/x-python",
   "name": "python",
   "nbconvert_exporter": "python",
   "pygments_lexer": "ipython3",
   "version": "3.4.3"
  }
 },
 "nbformat": 4,
 "nbformat_minor": 0
}
